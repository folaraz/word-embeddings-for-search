{
 "cells": [
  {
   "cell_type": "code",
   "execution_count": 10,
   "metadata": {},
   "outputs": [],
   "source": [
    "import string\n",
    "from nltk.tokenize import sent_tokenize\n",
    "import numpy as np\n",
    "from sklearn.metrics.pairwise import cosine_similarity\n",
    "import operator\n",
    "\n",
    "\n",
    "def load_doc(file):\n",
    "    text = open(file, 'r').read()\n",
    "    return text\n",
    "\n",
    "def get_sentences(file):\n",
    "    doc = load_doc(file)\n",
    "    sentences = sent_tokenize(doc)\n",
    "    return sentences\n",
    "\n",
    "def clean_doc(file):\n",
    "    docs = get_sentences(file)\n",
    "    result = []\n",
    "    for doc in docs:\n",
    "        doc = doc.replace('--', ' ')\n",
    "        tokens = doc.split()\n",
    "        table = str.maketrans('', '', string.punctuation)\n",
    "        tokens = [w.translate(table) for w in tokens]\n",
    "        tokens = [word for word in tokens if word.isalpha()]\n",
    "        tokens = [word.lower() for word in tokens]\n",
    "        result.append(tokens)\n",
    "    return result\n",
    "\n",
    "def get_phrase_vec(model,input_word_phrase):\n",
    "    numerator = np.zeros(25)\n",
    "    denominator = 0\n",
    "    for word in input_word_phrase.split(' '):\n",
    "        try:\n",
    "            vec = model[word]\n",
    "            denominator +=1\n",
    "        except Exception as e:\n",
    "            pass\n",
    "        numerator += vec\n",
    "    return numerator/denominator\n",
    "        \n",
    "def avg_sentence( model,file):\n",
    "    c_docs = clean_doc(file)\n",
    "    sent_vec = []\n",
    "    for doc in c_docs:\n",
    "        numerator = np.zeros(25)\n",
    "        denominator = 0\n",
    "        for word in doc:\n",
    "            try:\n",
    "                denominator += 1\n",
    "                vec = model[word]\n",
    "            except KeyError as e:\n",
    "                pass\n",
    "            numerator += vec\n",
    "        sent_vec.append((doc,numerator/denominator))\n",
    "    return sent_vec\n",
    "\n",
    "def search_word(model, input_word,textFile,Phrase=True):\n",
    "    vector_sentences = avg_sentence(model,textFile)\n",
    "    if Phrase:\n",
    "        word_vec = get_phrase_vec(model, input_word)\n",
    "    else:\n",
    "        try:\n",
    "            word_vec = model[input_word]\n",
    "        except KeyError as e:\n",
    "            raise ValueError(\"Word not present in the vocabulary\")\n",
    "    n = 0\n",
    "    ans = []\n",
    "    for vec in vector_sentences:\n",
    "        calc_vec = list(cosine_similarity(word_vec.reshape(1, -1),vec[1].reshape(1, -1)))[0][0]\n",
    "        ans.append((' '.join(vec[0]),calc_vec))\n",
    "    return sorted(ans, key = lambda x: x[1]) "
   ]
  },
  {
   "cell_type": "code",
   "execution_count": 3,
   "metadata": {},
   "outputs": [],
   "source": [
    "from gensim.models import KeyedVectors\n",
    "model=KeyedVectors.load_word2vec_format(\"/Users/abdulrazzaq/gensim-data/glove-twitter-25/glove-twitter-25.gz\")"
   ]
  },
  {
   "cell_type": "code",
   "execution_count": 11,
   "metadata": {},
   "outputs": [
    {
     "name": "stdout",
     "output_type": "stream",
     "text": [
      "[('several analysts recently commented on the stock', 0.8922033751298493), ('institutional investors and hedge funds own of the stock', 0.9051617030331485), ('ultragenyx pharmaceutical company profile', 0.90547840638274), ('get ultragenyx pharmaceutical alerts ultragenyx pharmaceutical nasdaqrare last issued its earnings results on monday may', 0.9055612359833983), ('seven analysts have issued estimates for ultragenyx earnings with the lowest sales estimate coming in at million and the highest estimate coming in at million', 0.9217683664206967), ('the biopharmaceutical company reported earnings per share eps for the quarter missing the thomson consensus estimate of by', 0.9257237314479116), ('zacks analysts anticipate ultragenyx pharmaceutical inc rare will announce quarterly sales of million posted by maurice goldstein on may equities research analysts forecast that ultragenyx pharmaceutical inc nasdaqrare will post sales of million for the current fiscal quarter according to zacks', 0.9286677299049154), ('in other news evp karah herdman parschauer sold shares of ultragenyx pharmaceutical stock in a transaction dated monday april', 0.9289585282355876), ('during the same period last year the business earned eps', 0.9305742369583992), ('several hedge funds and other institutional investors have recently made changes to their positions in rare', 0.9333188140603162), ('also cfo shalini sharp sold shares of ultragenyx pharmaceutical stock in a transaction dated monday march', 0.9338307126636943), ('oppenheimer asset management inc acquired a new stake in shares of ultragenyx pharmaceutical in the fourth quarter valued at about', 0.9348454967164962), ('meeder asset management inc now owns shares of the biopharmaceutical stock valued at after purchasing an additional shares during the period', 0.9358290897956993), ('shares of ultragenyx pharmaceutical stock opened at on friday', 0.9360350251334135), ('the business is scheduled to issue its next earnings report on thursday august', 0.9366051789858949), ('exane derivatives acquired a new stake in shares of ultragenyx pharmaceutical in the fourth quarter valued at about', 0.937545527723581), ('its product includes mepsevii and crysvita', 0.9407468803329191), ('for more information about research offerings from zacks investment research visit zackscom receive news ratings for ultragenyx pharmaceutical daily enter your email address below to receive a concise daily summary of the latest news and analysts ratings for ultragenyx pharmaceutical and related companies with marketbeatcoms free daily email newsletter', 0.9411307160681168), ('bank of montreal can grew its position in shares of ultragenyx pharmaceutical by in the fourth quarter', 0.9417088080779569), ('bank of montreal can now owns shares of the biopharmaceutical stock valued at after purchasing an additional shares during the period', 0.9420569890073701), ('first mercantile trust co now owns shares of the biopharmaceutical stock valued at after purchasing an additional shares during the period', 0.942176154244212), ('for the next financial year analysts anticipate that the firm will post sales of million with estimates ranging from million to million', 0.9429199804037295), ('the business had revenue of million for the quarter compared to expectations of million', 0.9432595822284305), ('barclays restated a rating on shares of ultragenyx pharmaceutical in a research report on thursday may', 0.9440571466240857), ('on average analysts expect that ultragenyx pharmaceutical will report full year sales of million for the current year with estimates ranging from million to million', 0.9458681528005484), ('ultragenyx pharmaceutical reported sales of million in the same quarter last year which indicates a positive yearoveryear growth rate of', 0.947166260100715), ('ultragenyx pharmaceutical inc is a biopharmaceutical company which engages in the identification acquisition development and commercialization of novel products for the treatment of serious rare and ultrarare genetic diseases', 0.9486626208001064), ('the sale was disclosed in a document filed with the sec which is accessible through the sec website', 0.9500562464348318), ('the firm has a market cap of billion a pe ratio of and a beta of', 0.9505125504589944), ('finally first mercantile trust co grew its position in shares of ultragenyx pharmaceutical by in the first quarter', 0.9514475271193135), ('the company has a consensus rating of and a consensus price target of', 0.9517206159957637), ('of the stock is owned by company insiders', 0.9522965042036436), ('wedbush restated an rating and set a price target down previously from on shares of ultragenyx pharmaceutical in a research report on tuesday may', 0.952551159855073), ('four analysts have rated the stock with a hold rating and fifteen have given a buy rating to the stock', 0.9527721493621669), ('the revenue for the quarter was up on a yearoveryear basis', 0.953273124417542), ('meeder asset management inc grew its position in shares of ultragenyx pharmaceutical by in the first quarter', 0.9550746742169881), ('the shares were sold at an average price of for a total transaction of', 0.9556930928100821), ('bidaskclub lowered shares of ultragenyx pharmaceutical from a rating to a rating in a research report on thursday may', 0.956232266733538), ('valuengine lowered shares of ultragenyx pharmaceutical from a rating to a rating in a research report on wednesday may', 0.9562800979060361), ('the shares were sold at an average price of for a total value of', 0.9572518091715863), ('ultragenyx pharmaceutical had a negative return on equity of and a negative net margin of', 0.9577513350962433), ('zacks investment sales averages are a mean average based on a survey of research firms that that provide coverage for ultragenyx pharmaceutical', 0.9593227402138859), ('the company has a debttoequity ratio of a current ratio of and a quick ratio of', 0.959625675522737), ('finally zacks investment research upgraded shares of ultragenyx pharmaceutical from a rating to a rating and set a price target on the stock in a research report on tuesday april', 0.9609585278981587), ('the disclosure for this sale can be found here', 0.9637774383672296), ('the company was founded by emil d get a free copy of the zacks research report on ultragenyx pharmaceutical rare', 0.9692060395717655), ('ultragenyx pharmaceutical has a year low of and a year high of', 0.9706391490693416)]\n"
     ]
    }
   ],
   "source": [
    "ans = search_word(model,'pharmacy is a very good business','article.txt',Phrase=True)\n",
    "print(ans)"
   ]
  },
  {
   "cell_type": "code",
   "execution_count": null,
   "metadata": {},
   "outputs": [],
   "source": []
  },
  {
   "cell_type": "code",
   "execution_count": null,
   "metadata": {},
   "outputs": [],
   "source": []
  },
  {
   "cell_type": "code",
   "execution_count": null,
   "metadata": {},
   "outputs": [],
   "source": []
  },
  {
   "cell_type": "code",
   "execution_count": null,
   "metadata": {},
   "outputs": [],
   "source": []
  },
  {
   "cell_type": "code",
   "execution_count": null,
   "metadata": {},
   "outputs": [],
   "source": []
  },
  {
   "cell_type": "code",
   "execution_count": null,
   "metadata": {},
   "outputs": [],
   "source": []
  },
  {
   "cell_type": "code",
   "execution_count": null,
   "metadata": {},
   "outputs": [],
   "source": []
  },
  {
   "cell_type": "code",
   "execution_count": null,
   "metadata": {},
   "outputs": [],
   "source": []
  },
  {
   "cell_type": "code",
   "execution_count": null,
   "metadata": {},
   "outputs": [],
   "source": []
  },
  {
   "cell_type": "code",
   "execution_count": null,
   "metadata": {},
   "outputs": [],
   "source": []
  },
  {
   "cell_type": "code",
   "execution_count": null,
   "metadata": {},
   "outputs": [],
   "source": []
  }
 ],
 "metadata": {
  "kernelspec": {
   "display_name": "Python 3",
   "language": "python",
   "name": "python3"
  },
  "language_info": {
   "codemirror_mode": {
    "name": "ipython",
    "version": 3
   },
   "file_extension": ".py",
   "mimetype": "text/x-python",
   "name": "python",
   "nbconvert_exporter": "python",
   "pygments_lexer": "ipython3",
   "version": "3.7.3"
  }
 },
 "nbformat": 4,
 "nbformat_minor": 2
}
